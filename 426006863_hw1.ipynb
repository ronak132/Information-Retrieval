{
 "cells": [
  {
   "cell_type": "markdown",
   "metadata": {},
   "source": [
    "#### CSCE 670 :: Information Storage and Retrieval :: Texas A&M University :: Spring 2018\n",
    "\n",
    "\n",
    "# Homework 1:  Basic Machine Learning + Learning to Rank \n",
    "\n",
    "### 100 points [5% of your final grade]\n",
    "\n",
    "### Due: Monday, February 12 by 11:59pm\n",
    "\n",
    "*Goals of this homework:* In this homework you will get hands-on experience with (i) the basics of machine learning (e.g. train/test data, cross-validation, different classifiers) and interpreting results; and (ii) learning to rank.\n",
    "\n",
    "*Submission Instructions:* To submit your homework, rename this notebook as UIN_hw#.ipynb. For example, this homework submission would be: YourUIN_hw1.ipynb. Submit this notebook via ecampus. Your notebook should be completely self-contained, with the results visible in the notebook. \n",
    "\n",
    "*Late submission policy:* For this homework, you may use up to three of your late days, meaning that no submissions will be accepted after Thursday, February 15 at 11:59pm.\n",
    "\n",
    "*Collaboration policy:* You are expected to complete each homework independently. Your solution should be written by you without the direct aid or help of anyone else. However, we believe that collaboration and team work are important for facilitating learning, so we encourage you to discuss problems and general problem approaches (but not actual solutions) with your classmates. You may post on Piazza, search StackOverflow, etc. But if you do get help in this way, you must inform us by **filling out the Collaboration Declarations at the bottom of this notebook**. \n",
    "\n",
    "*Example: I found helpful code on stackoverflow at https://stackoverflow.com/questions/11764539/writing-fizzbuzz that helped me solve Problem 2.*\n",
    "\n",
    "The basic rule is that no student should explicitly share a solution with another student (and thereby circumvent the basic learning process), but it is okay to share general approaches, directions, and so on. If you feel like you have an issue that needs clarification, feel free to contact either me or the TA."
   ]
  },
  {
   "cell_type": "markdown",
   "metadata": {},
   "source": [
    "# Part 1: Basics of ML (70 points)\n",
    "\n",
    "For this part, we're going to get familiar with scikit-learn (a great ML toolkit that is very popular) and the major issues in training a model, testing it, and interpreting the results. Our goal in this assignment is to build a classifier to determine if a Yelp review is \"food-relevant\" or not.\n",
    "\n",
    "## Dataset: Yelp review data\n",
    "\n",
    "First, you will need to download the training_data.json file from the Resources tab on Piazza, a collection of 40,000 json-encoded Yelp reviews we sampled from the [Yelp Dataset Challenge](https://www.yelp.com/dataset_challenge).\n",
    "\n",
    "You'll see that each line corresponds to a review on a particular business. The label (class) information of each review is in the \"label\" field. It is **either \"Food-relevant\" or \"Food-irrelevant\"**."
   ]
  },
  {
   "cell_type": "markdown",
   "metadata": {},
   "source": [
    "## Part 1.1: Parsing Yelp (15 points)\n",
    "\n",
    "For this first part, we will build a parser for extracting tokens from the **review text** only. First, you should tokenize each review using **whitespaces and punctuations as delimiters**. Do not remove stopwords. You should apply casefolding (lower case everything) and use the [nltk Porter stemmer](http://www.nltk.org/api/nltk.stem.html#module-nltk.stem.porter) ... you may need to install nltk if you don't have it already. "
   ]
  },
  {
   "cell_type": "code",
   "execution_count": 2,
   "metadata": {},
   "outputs": [
    {
     "name": "stdout",
     "output_type": "stream",
     "text": [
      "starting\n"
     ]
    }
   ],
   "source": [
    "# your code here\n",
    "# use as many cells as you need\n",
    "print 'starting'"
   ]
  },
  {
   "cell_type": "markdown",
   "metadata": {},
   "source": [
    "### Unique tokens?\n",
    "\n",
    "Once you have your parser working, you should report here the size of your feature space. That is, how many unique tokens do you find?"
   ]
  },
  {
   "cell_type": "code",
   "execution_count": 3,
   "metadata": {},
   "outputs": [
    {
     "name": "stdout",
     "output_type": "stream",
     "text": [
      "started\n",
      "36555\n"
     ]
    }
   ],
   "source": [
    "import json\n",
    "import string\n",
    "import operator\n",
    "import nltk\n",
    "from nltk.stem import PorterStemmer\n",
    "import re\n",
    "from sklearn.feature_extraction.text import CountVectorizer\n",
    "import numpy as np\n",
    "from sklearn import svm\n",
    "from sklearn.cross_validation import train_test_split\n",
    "from sklearn.neighbors import KNeighborsClassifier\n",
    "from sklearn.metrics import accuracy_score\n",
    "from sklearn import tree\n",
    "from sklearn.naive_bayes import MultinomialNB\n",
    "from sklearn.tree import DecisionTreeClassifier\n",
    "from sklearn.cross_validation import StratifiedKFold\n",
    "from sklearn.datasets import make_classification\n",
    "from sklearn.cross_validation import StratifiedShuffleSplit\n",
    "from sklearn.metrics import classification_report\n",
    "from sklearn.metrics import accuracy_score, f1_score, precision_score, recall_score, classification_report, confusion_matrix\n",
    "\n",
    "\n",
    "\n",
    "file = 'F:/SEM-2/IR/HW_1/train.json'\n",
    "st = PorterStemmer()\n",
    "words = []\n",
    "lines = []\n",
    "labels = []\n",
    "\n",
    "print'started'\n",
    "with open(file) as f:\n",
    "    for line in f:\n",
    "        #print(line)\n",
    "        json_data = json.loads(line.lower())\n",
    "        text = json_data['text']\n",
    "        lines.append(text)\n",
    "        label = json_data['label']\n",
    "        #print(label)\n",
    "        labels.append(label)\n",
    "        #print(json_data)\n",
    "        list = re.findall('\\w+', text)\n",
    "        #print list\n",
    "        #words.append(list)\n",
    "        for temp in list:\n",
    "            #print temp, st.stem(temp)\n",
    "            words.append(st.stem(temp))\n",
    "#print words\n",
    "frequency = {}\n",
    "\n",
    "for word in words:\n",
    "    count = frequency.get(word,0)\n",
    "    frequency[word] = count + 1\n",
    "     \n",
    "frequency_list = frequency.keys()\n",
    "print len(frequency_list)"
   ]
  },
  {
   "cell_type": "markdown",
   "metadata": {},
   "source": [
    "### The Most Popular Words\n",
    "\n",
    "Great, now we can tokenize the documents. Let's make a list of the most popular words in our reviews. For this step, you should maintain a count of how many times each word occurs. Then you should print out the top-20 words in your reviews.\n",
    "\n",
    "Your output should look like this:\n",
    "\n",
    "Rank Token Count\n",
    "\n",
    "1 awesome 78\n",
    "\n",
    "... ..."
   ]
  },
  {
   "cell_type": "code",
   "execution_count": 4,
   "metadata": {},
   "outputs": [
    {
     "name": "stdout",
     "output_type": "stream",
     "text": [
      "the 246309\n",
      "i 168931\n",
      "and 168589\n",
      "a 134904\n",
      "to 128139\n",
      "it 78867\n",
      "of 76237\n",
      "wa 74020\n",
      "is 63496\n",
      "for 60867\n",
      "in 60523\n",
      "that 50804\n",
      "my 50565\n",
      "you 45881\n",
      "they 43635\n",
      "thi 39940\n",
      "with 39340\n",
      "have 39082\n",
      "but 37967\n",
      "on 35388\n"
     ]
    }
   ],
   "source": [
    "freq_sorted = sorted(frequency, key=frequency.get, reverse=True)\n",
    "for r in freq_sorted[:20]:\n",
    "    print r, frequency[r]"
   ]
  },
  {
   "cell_type": "markdown",
   "metadata": {},
   "source": [
    "### Zipf's Law\n",
    "\n",
    "Recall in class our discussion of Zipf's law. Let's see if this law applies to our Yelp reviews. You should use matplotlib to plot the log-base10 term counts on the y-axis versus the log-base10 rank on the x-axis. Your aim is to create a figure like the one in Figure 5.2 of the textbook."
   ]
  },
  {
   "cell_type": "code",
   "execution_count": 5,
   "metadata": {},
   "outputs": [
    {
     "name": "stdout",
     "output_type": "stream",
     "text": [
      "sss\n"
     ]
    }
   ],
   "source": [
    "# your code here\n",
    "print 'sss'"
   ]
  },
  {
   "cell_type": "markdown",
   "metadata": {},
   "source": [
    "What do you observe? Is this consistent with Zipf's law?"
   ]
  },
  {
   "cell_type": "markdown",
   "metadata": {},
   "source": [
    "*Your answer goes here*"
   ]
  },
  {
   "cell_type": "markdown",
   "metadata": {},
   "source": [
    "## Part 1.2: Feature Represenation (10 points)\n",
    "\n",
    "In this part you will build feature vectors for each review. This will be input to our ML classifiers. You should call your parser from earlier, using all the same assumptions (e.g., casefolding, stemming). Each feature value should be the term count for that review."
   ]
  },
  {
   "cell_type": "code",
   "execution_count": 6,
   "metadata": {},
   "outputs": [
    {
     "name": "stdout",
     "output_type": "stream",
     "text": [
      "start\n",
      "done\n"
     ]
    }
   ],
   "source": [
    "print 'start'\n",
    "vectorizer = CountVectorizer()\n",
    "X = vectorizer.fit_transform(lines)\n",
    "print 'done'"
   ]
  },
  {
   "cell_type": "markdown",
   "metadata": {},
   "source": [
    "## Part 1.3: Machine Learning Basics (30 points)\n",
    "\n",
    "In this part you will evaluate a bunch of classifiers -- kNN, Decision tree, Naive Bayes, and SVM -- on the feature vectors generated in the previous task in two different settings. **You do not need to implement any classifier from scratch. You may use scikit-learn's built-in capabilities.**\n",
    "\n",
    "### Setting 1: Splitting data into train-test \n",
    "\n",
    "In the first setting, you should treat the first 70% of your data as training. The remaining 30% should be for testing. \n",
    "\n",
    "### Setting 2: Using 5 fold cross-validation\n",
    "\n",
    "In the second setting, use 5-folk cross-validation. \n",
    "\n",
    "### What to report\n",
    "\n",
    "* Report the overall accuracy for both settings.\n",
    "* For the class \"Food-relevant\", report the precision and recall for both settings.\n",
    "* For the class \"Food-irrelevant\", report the precision and recall for both settings."
   ]
  },
  {
   "cell_type": "code",
   "execution_count": 7,
   "metadata": {},
   "outputs": [
    {
     "name": "stdout",
     "output_type": "stream",
     "text": [
      "split\n",
      "svm\n",
      "knn\n",
      "tree\n",
      "nb\n",
      "accuracy with splitting data------------------------------\n",
      "svm 0.933083333333\n",
      "knn 0.706083333333\n",
      "decision tree 0.88375\n",
      "naive bayes 0.948083333333\n",
      "precision and recall is only meaningful if they are calculated on the test data\n",
      "so they are calculated on test data and for svm classifier\n",
      "             precision    recall  f1-score   support\n",
      "\n",
      "   relevant       0.94      0.93      0.93      5999\n",
      " irrelevant       0.93      0.94      0.93      6001\n",
      "\n",
      "avg / total       0.93      0.93      0.93     12000\n",
      "\n",
      "('TRAIN:', array([ 5451,  5452,  5453, ..., 39997, 39998, 39999]), 'TEST:', array([    0,     1,     2, ..., 13245, 13246, 13247]))\n",
      "('TRAIN:', array([    0,     1,     2, ..., 39997, 39998, 39999]), 'TEST:', array([ 5451,  5452,  5453, ..., 27312, 27313, 27314]))\n",
      "('TRAIN:', array([    0,     1,     2, ..., 39997, 39998, 39999]), 'TEST:', array([11513, 11514, 11515, ..., 31997, 31998, 31999]))\n",
      "('TRAIN:', array([    0,     1,     2, ..., 39997, 39998, 39999]), 'TEST:', array([17199, 17200, 17201, ..., 35997, 35998, 35999]))\n",
      "('TRAIN:', array([    0,     1,     2, ..., 35997, 35998, 35999]), 'TEST:', array([22902, 22903, 22904, ..., 39997, 39998, 39999]))\n",
      "accuracy with 5 fold cross validation------------------------------\n",
      "svm 0.925125\n",
      "knn 0.703875\n",
      "tree 0.87525\n",
      "naive bayes 0.956125\n",
      "precision and recall is only meaningful if they are calculated on the test data\n",
      "so they are calculated on test data and for svm classifier\n",
      "             precision    recall  f1-score   support\n",
      "\n",
      "   relevant       0.92      0.94      0.93      4000\n",
      " irrelevant       0.93      0.92      0.92      4000\n",
      "\n",
      "avg / total       0.93      0.93      0.93      8000\n",
      "\n"
     ]
    }
   ],
   "source": [
    "from sklearn.naive_bayes import MultinomialNB\n",
    "from sklearn.cross_validation import train_test_split\n",
    "\n",
    "\n",
    "print 'split'\n",
    "\n",
    "X_train, X_test, y_train, y_test = train_test_split(X, np.transpose(labels), test_size=0.3, random_state=42)\n",
    "\n",
    "print 'svm'\n",
    "svm_clf = svm.SVC(kernel ='linear', C = 1.0)\n",
    "svm_clf.fit(X_train,y_train)\n",
    "svm_pred = svm_clf.predict(X_test)\n",
    "\n",
    "print 'knn'\n",
    "knn_clf = KNeighborsClassifier(n_neighbors=3)\n",
    "knn_clf.fit(X_train, y_train)\n",
    "knn_pred = knn_clf.predict(X_test)\n",
    "\n",
    "print 'tree'\n",
    "tree_clf = DecisionTreeClassifier()\n",
    "tree_clf.fit(X_train, y_train)\n",
    "tree_pred = tree_clf.predict(X_test)\n",
    "\n",
    "print 'nb'\n",
    "nb_clf = MultinomialNB()\n",
    "nb_clf.fit(X_train, y_train)\n",
    "nb_pred = nb_clf.predict(X_test)\n",
    "\n",
    "print 'accuracy with splitting data------------------------------'\n",
    "print 'svm',accuracy_score(y_test, svm_pred)\n",
    "print 'knn',accuracy_score(y_test, knn_pred)\n",
    "print 'decision tree',accuracy_score(y_test, tree_pred)\n",
    "print 'naive bayes',accuracy_score(y_test, nb_pred)\n",
    "\n",
    "print 'precision and recall is only meaningful if they are calculated on the test data'\n",
    "print 'so they are calculated on test data and for svm classifier'\n",
    "\n",
    "target_names = ['relevant', 'irrelevant']\n",
    "print(classification_report(y_test, svm_pred, target_names=target_names))\n",
    "\n",
    "y = np.transpose(labels)\n",
    "skf = StratifiedKFold(y, n_folds=5)\n",
    "for train_index, test_index in skf:\n",
    "    print(\"TRAIN:\", train_index, \"TEST:\", test_index)\n",
    "    XK_train, XK_test = X[train_index], X[test_index]\n",
    "    yK_train, yK_test = y[train_index], y[test_index]\n",
    "\n",
    "svmK_clf = svm.SVC(kernel ='linear', C = 1.0)\n",
    "svmK_clf.fit(XK_train,yK_train)\n",
    "svmK_pred = svmK_clf.predict(XK_test)\n",
    "\n",
    "knnK_clf = KNeighborsClassifier(n_neighbors=3)\n",
    "knnK_clf.fit(XK_train, yK_train)\n",
    "knnK_pred = knnK_clf.predict(XK_test)\n",
    "\n",
    "treeK_clf = DecisionTreeClassifier()\n",
    "treeK_clf.fit(XK_train, yK_train)\n",
    "treeK_pred = treeK_clf.predict(XK_test)\n",
    "\n",
    "nbK_clf = MultinomialNB()\n",
    "nbK_clf.fit(XK_train, yK_train)\n",
    "nbK_pred = nbK_clf.predict(XK_test)\n",
    "\n",
    "print 'accuracy with 5 fold cross validation------------------------------'\n",
    "print 'svm',accuracy_score(yK_test, svmK_pred)\n",
    "print 'knn',accuracy_score(yK_test, knnK_pred)\n",
    "print 'tree',accuracy_score(yK_test, treeK_pred)\n",
    "print 'naive bayes',accuracy_score(yK_test, nbK_pred)\n",
    "\n",
    "print 'precision and recall is only meaningful if they are calculated on the test data'\n",
    "print 'so they are calculated on test data and for svm classifier'\n",
    "\n",
    "target_names = ['relevant', 'irrelevant']\n",
    "print(classification_report(yK_test, svmK_pred, target_names=target_names))\n"
   ]
  },
  {
   "cell_type": "markdown",
   "metadata": {},
   "source": [
    "## Part 1.4: Analyzing your results (5 points) \n",
    "\n",
    "OK, now that you have tried four different classifiers, what do you observe? Any conclusions you can draw? Give us one or two paragraphs summarizing your findings."
   ]
  },
  {
   "cell_type": "markdown",
   "metadata": {},
   "source": [
    "So we have implemented 4 classifiers, and seeing the result we can say that naive bayes is the best classifier. Maybe its because of the assumption it makes that the probability of occurrence of any word given the class label, is independent of the probability of occurrence of any other word, given that label.\n",
    "\n",
    "Also sophasticated methods like svm, knn works at their best when they are used for multiclass classification. \n",
    "On how we can improve the classifier is by check the frequencies of semantically similar words. For example if the review of the certain movie is good, it generally contains words which mean good and are praise-like. Semantic grouping of words and classification on the basis of that can help. Also the use of frequency of negative words can be used as a feature."
   ]
  },
  {
   "cell_type": "markdown",
   "metadata": {},
   "source": [
    "## Part 1.5: Improving your classifier (10 points)\n",
    "\n",
    "I think we can do better! In this part, your job is to create new features that you can think can help improve your classifier. You may choose to use new weightings for your words, new derived features (e.g., count of 3-letter words), or whatever you like. You may also add in the extra features in the json: funny, useful, cool. You will need to experiment with different approaches ... once you finalize on your best approach, include the features here with a description (that is, tell us what the feature means). Then give us your classifier results!"
   ]
  },
  {
   "cell_type": "code",
   "execution_count": 8,
   "metadata": {},
   "outputs": [
    {
     "name": "stdout",
     "output_type": "stream",
     "text": [
      "we can use TFIDF\n",
      "start\n",
      "done\n",
      "split\n",
      "svm\n",
      "knn\n",
      "tree\n",
      "NB\n",
      "accuracy with splitting data------------------------------\n",
      "svm 0.958416666667\n",
      "knn 0.512166666667\n",
      "decision tree 0.876416666667\n",
      "naive bayes 0.950083333333\n",
      "precision and recall is only meaningful if they are calculated on the test data\n",
      "so they are calculated on test data and for svm classifier\n",
      "             precision    recall  f1-score   support\n",
      "\n",
      "   relevant       0.95      0.96      0.96      5999\n",
      " irrelevant       0.96      0.95      0.96      6001\n",
      "\n",
      "avg / total       0.96      0.96      0.96     12000\n",
      "\n",
      "accuracy with 5 fold cross validation------------------------------\n",
      "svm 0.954625\n",
      "knn 0.869\n",
      "tree 0.882\n",
      "naive bayes 0.958\n",
      "precision and recall is only meaningful if they are calculated on the test data\n",
      "so they are calculated on test data and for svm classifier\n",
      "             precision    recall  f1-score   support\n",
      "\n",
      "   relevant       0.94      0.97      0.96      4000\n",
      " irrelevant       0.97      0.94      0.95      4000\n",
      "\n",
      "avg / total       0.96      0.95      0.95      8000\n",
      "\n"
     ]
    }
   ],
   "source": [
    "# your code here ... add as many cells as you need for features, results, and discussion.\n",
    "print \"we can use TFIDF\"\n",
    "\n",
    "from sklearn.feature_extraction.text import TfidfVectorizer\n",
    "print 'start'\n",
    "Tvectorizer = TfidfVectorizer()\n",
    "XT = Tvectorizer.fit_transform(lines)\n",
    "print 'done'\n",
    "\n",
    "\n",
    "\n",
    "from sklearn.naive_bayes import MultinomialNB\n",
    "from sklearn.cross_validation import train_test_split\n",
    "\n",
    "\n",
    "print 'split'\n",
    "\n",
    "XT_train, XT_test, yT_train, yT_test = train_test_split(XT, np.transpose(labels), test_size=0.3, random_state=42)\n",
    "\n",
    "print 'svm'\n",
    "svm_clf = svm.SVC(kernel ='linear', C = 1.0)\n",
    "svm_clf.fit(XT_train,yT_train)\n",
    "svm_pred = svm_clf.predict(XT_test)\n",
    "\n",
    "print 'knn'\n",
    "knn_clf = KNeighborsClassifier(n_neighbors=3)\n",
    "knn_clf.fit(XT_train, yT_train)\n",
    "knn_pred = knn_clf.predict(XT_test)\n",
    "\n",
    "print 'tree'\n",
    "tree_clf = DecisionTreeClassifier()\n",
    "tree_clf.fit(XT_train, yT_train)\n",
    "tree_pred = tree_clf.predict(XT_test)\n",
    "\n",
    "print 'NB'\n",
    "nb_clf = MultinomialNB()\n",
    "nb_clf.fit(XT_train, yT_train)\n",
    "nb_pred = nb_clf.predict(XT_test)\n",
    "\n",
    "print 'accuracy with splitting data------------------------------'\n",
    "print 'svm',accuracy_score(yT_test, svm_pred)\n",
    "print 'knn',accuracy_score(yT_test, knn_pred)\n",
    "print 'decision tree',accuracy_score(yT_test, tree_pred)\n",
    "print 'naive bayes',accuracy_score(yT_test, nb_pred)\n",
    "\n",
    "print 'precision and recall is only meaningful if they are calculated on the test data'\n",
    "print 'so they are calculated on test data and for svm classifier'\n",
    "\n",
    "target_names = ['relevant', 'irrelevant']\n",
    "print(classification_report(y_test, svm_pred, target_names=target_names))\n",
    "\n",
    "y = np.transpose(labels)\n",
    "skf = StratifiedKFold(y, n_folds=5)\n",
    "for train_index, test_index in skf:\n",
    "    #print(\"TRAIN:\", train_index, \"TEST:\", test_index)\n",
    "    XK_train, XK_test = XT[train_index], XT[test_index]\n",
    "    yK_train, yK_test = y[train_index], y[test_index]\n",
    "\n",
    "svmK_clf = svm.SVC(kernel ='linear', C = 1.0)\n",
    "svmK_clf.fit(XK_train,yK_train)\n",
    "svmK_pred = svmK_clf.predict(XK_test)\n",
    "\n",
    "knnK_clf = KNeighborsClassifier(n_neighbors=3)\n",
    "knnK_clf.fit(XK_train, yK_train)\n",
    "knnK_pred = knnK_clf.predict(XK_test)\n",
    "\n",
    "treeK_clf = DecisionTreeClassifier()\n",
    "treeK_clf.fit(XK_train, yK_train)\n",
    "treeK_pred = treeK_clf.predict(XK_test)\n",
    "\n",
    "nbK_clf = MultinomialNB()\n",
    "nbK_clf.fit(XK_train, yK_train)\n",
    "nbK_pred = nbK_clf.predict(XK_test)\n",
    "\n",
    "print 'accuracy with 5 fold cross validation------------------------------'\n",
    "print 'svm',accuracy_score(yK_test, svmK_pred)\n",
    "print 'knn',accuracy_score(yK_test, knnK_pred)\n",
    "print 'tree',accuracy_score(yK_test, treeK_pred)\n",
    "print 'naive bayes',accuracy_score(yK_test, nbK_pred)\n",
    "\n",
    "print 'precision and recall is only meaningful if they are calculated on the test data'\n",
    "print 'so they are calculated on test data and for svm classifier'\n",
    "\n",
    "target_names = ['relevant', 'irrelevant']\n",
    "print(classification_report(yK_test, svmK_pred, target_names=target_names))"
   ]
  },
  {
   "cell_type": "markdown",
   "metadata": {},
   "source": [
    "### BONUS: What are the most informative features in distinguishing these two classes?"
   ]
  },
  {
   "cell_type": "code",
   "execution_count": null,
   "metadata": {
    "collapsed": true
   },
   "outputs": [],
   "source": [
    "# Your code here"
   ]
  },
  {
   "cell_type": "markdown",
   "metadata": {},
   "source": [
    "# Part 2: Learning to Rank (30 points)\n",
    "\n",
    "For this part, we're going to play with some Microsoft LETOR data that has query-document relevance judgments. Let's see how learning to rank works in practice. \n",
    "\n",
    "First, you will need to download the MQ2008.zip file from the Resources tab on Piazza. This is data from the [Microsoft Research IR Group](https://www.microsoft.com/en-us/research/project/letor-learning-rank-information-retrieval/).\n",
    "\n",
    "The data includes 15,211 rows. Each row is a query-document pair. The first column is a relevance label of this pair (0,1 or 2--> the higher value the more related), the second column is query id, the following columns are features, and the end of the row is comment about the pair, including id of the document. A query-document pair is represented by a 46-dimensional feature vector. Features are a numeric value describing a document and query such as TFIDF, BM25, Page Rank, .... You can find compelete description of features from [here](https://arxiv.org/ftp/arxiv/papers/1306/1306.2597.pdf).\n",
    "\n",
    "The good news for you is the dataset is ready for analysis: It has already been split into 5 folds (see the five folders called Fold1, ..., Fold5).\n",
    "\n",
    "For this assignment, we're going to leave our favorite scikit-learn and instead use [SVM-rank](https://www.cs.cornell.edu/people/tj/svm_light/svm_rank.html). This is the basic ranking SVM we talked about in class. You'll see that SVM-rank considers pairwise relevance between docs -- so based on the training data it will transform the data into pairs -- like D1 > D2 and then learn a separator.\n",
    "\n",
    "\n",
    "## Part 2.1: Optimizing SVM-Rank (15 points)\n",
    "\n",
    "First, you should explore how the different parameters affect the quality of the Ranking SVM. You'll see that you can vary the kernel function, the loss function and so forth. \n",
    "\n",
    "You should run SVM-Rank using the default options over each of the five folds. You should find the error on the test set (for example, depending on your settings, svm_rank_classify will give you the zero/one error statistics (that is, the number of correct pairs and the number of incorrect pairs). Report the average. \n",
    "\n",
    "Then try different parameters and report how they impact the quality of results. "
   ]
  },
  {
   "cell_type": "markdown",
   "metadata": {},
   "source": [
    "  Fold 1\n",
    " c = default  Zero/one-error on test set: 58.97% (64 correct, 92 incorrect, 156 total)\n",
    " c = 10       Zero/one-error on test set: 58.97% (64 correct, 92 incorrect, 156 total)\n",
    " c = 5, l = 2 Zero/one-error on test set: 58.33% (65 correct, 91 incorrect, 156 total)\n",
    " c = 3, w = 2 Zero/one-error on test set: 57.69% (66 correct, 90 incorrect, 156 total)\n",
    " c = 3, w = 4 Zero/one-error on test set: 57.05% (67 correct, 89 incorrect, 156 total)\n",
    " \n",
    " Fold 2\n",
    " c = default  Zero/one-error on test set: 56.69% (68 correct, 89 incorrect, 157 total)\n",
    " c = 10       Zero/one-error on test set: 57.32% (67 correct, 90 incorrect, 157 total)\n",
    " c = 5, l = 2 Zero/one-error on test set: 54.78% (71 correct, 86 incorrect, 157 total)\n",
    " c = 3, w = 2 Zero/one-error on test set: 56.05% (69 correct, 88 incorrect, 157 total)\n",
    " c = 3, w = 4 Zero/one-error on test set: 56.69% (68 correct, 89 incorrect, 157 total)\n",
    " \n",
    " Fold 3\n",
    " c = default  Zero/one-error on test set: 62.42% (59 correct, 98 incorrect, 157 total)\n",
    " c = 10       Zero/one-error on test set: 61.78% (60 correct, 97 incorrect, 157 total)\n",
    " c = 5, l = 2 Zero/one-error on test set: 61.15% (61 correct, 96 incorrect, 157 total)\n",
    " c = 3, w = 2 Zero/one-error on test set: 61.78% (60 correct, 97 incorrect, 157 total)\n",
    " c = 3, w = 4 Zero/one-error on test set: 61.78% (60 correct, 97 incorrect, 157 total)\n",
    " \n",
    " Fold 4\n",
    " c = default  Zero/one-error on test set: 69.43% (48 correct, 109 incorrect, 157 total)\n",
    " c = 10       Zero/one-error on test set: 70.06% (47 correct, 110 incorrect, 157 total)\n",
    " c = 5, l = 2 Zero/one-error on test set: 69.43% (48 correct, 109 incorrect, 157 total)\n",
    " c = 3, w = 2 Zero/one-error on test set: 68.79% (49 correct, 108 incorrect, 157 total)\n",
    " c = 3, w = 4 Zero/one-error on test set: 69.43% (48 correct, 109 incorrect, 157 total)\n",
    " \n",
    "  Fold 5\n",
    " c = default  Zero/one-error on test set: 64.33% (56 correct, 101 incorrect, 157 total)\n",
    " c = 10       Zero/one-error on test set: 64.97% (55 correct, 102 incorrect, 157 total)\n",
    " c = 5, l = 2 Zero/one-error on test set: 63.69% (57 correct, 100 incorrect, 157 total)\n",
    " c = 3, w = 2 Zero/one-error on test set: 64.97% (55 correct, 102 incorrect, 157 total)\n",
    " c = 3, w = 4 Zero/one-error on test set: 64.97% (55 correct, 102 incorrect, 157 total)\n",
    " \n",
    " \n",
    " \n",
    " \n",
    "The parameter c which is defined as the trade-off between training error and margin is varried from 5 to 20 for each folds. Increase in c , increased the zero/one error on test set averaged over 5 fold. However, when loss function is changed from Total number of swapped pairs summed over all queries to Fraction of swapped pairs averaged over all queries, it is decreased the zero/one error on test set. Another parameter that affected the performance is the choice of structural learning algorithm. The results are compared for  1-slack algorithm (primal) with 1-slack algorithm (dual) with constraint cache. It is found that 1 slack algorith (primal) performs better than the other one, however 1-slack algorithm (dual) with constraint cache performs better than the 1-slack algorithm (dual). \n",
    "\n",
    "Average \n",
    "c = 20     62.24% \n",
    "c = 10     62.62%\n",
    "c = 5      61.47%\n",
    "c = 3,w =2 61.85%\n",
    "c=3, w=4   61.94%\n",
    "\n",
    "\n"
   ]
  },
  {
   "cell_type": "markdown",
   "metadata": {},
   "source": [
    "\n",
    "## Part 2.1: Noise! (15 points)\n",
    "\n",
    "Now we're going to investigate whether the ranking SVM is easily influenced by noisy features. For example, what if some of the features you have are in error? Or what if you downloaded only a portion of a page to calculate a feature? (so the count of inlinks would be wrong)? \n",
    "\n",
    "In this case, add some noise to the features. What happens to the results? You may choose to add random noise throughout, noise to a single feature, noise to multiple features, etc. The choices are up to you. We aim to see what kind of exploration you conduct and what you conclude."
   ]
  },
  {
   "cell_type": "markdown",
   "metadata": {},
   "source": [
    "*add your results and discussion here*\n",
    "I have added white IID gaussian noise to the data and the results are \n",
    "fold 5 Zero/one-error on test set:73.25% 42 correct 115 incorrect 157 total\n",
    "fold 4 Zero/one-error on test set:71.97% 44 correct 113 incorrect 157 total\n",
    "fold 3 Zero/one-error on test set:70.70% 46 correct 111 incorrect 157 total\n",
    "fold 2 Zero/one-error on test set:64.97% 55 correct 102 incorrect 157 total\n",
    "fold 1 Zero/one-error on test set:65.38% 54 correct 102 incorrect 156 total\n",
    "\n",
    "here is the scrip to generate noise\n",
    "#from random import randint\n",
    "\n",
    "#fr = open('F:/SEM-2/IR/HW_1/folds/Fold5/train.txt', 'r')\n",
    "#fw = open('F:/SEM-2/IR/HW_1/folds/Fold5/train.mod.txt', 'w')\n",
    "\n",
    "#for line in fr:\n",
    "        #x = line.split()\n",
    "        #newline = str(x[0]) + ' ' + str(x[1])\n",
    "        #i = 2\n",
    "        #while (i != 48):\n",
    "                #y = x[i].split(':')\n",
    "                #newline = newline + ' ' + str(y[0]) + ':' + str(float(y[1]) + randint(0,100)/1.0)\n",
    "                #i = i + 1\n",
    "        #while (i != 57):\n",
    "                #newline = newline + ' ' + str(x[i])\n",
    "                #i = i + 1\n",
    "        #fw.write(newline)\n",
    "        #fw.write('\\n')\n"
   ]
  },
  {
   "cell_type": "markdown",
   "metadata": {},
   "source": [
    "## Collaboration declarations"
   ]
  },
  {
   "cell_type": "markdown",
   "metadata": {},
   "source": [
    "*If you collaborated with anyone (see Collaboration policy at the top of this homework), you can put your collaboration declarations here.*"
   ]
  },
  {
   "cell_type": "code",
   "execution_count": 6,
   "metadata": {
    "collapsed": true
   },
   "outputs": [],
   "source": []
  },
  {
   "cell_type": "code",
   "execution_count": null,
   "metadata": {
    "collapsed": true
   },
   "outputs": [],
   "source": []
  },
  {
   "cell_type": "code",
   "execution_count": null,
   "metadata": {
    "collapsed": true
   },
   "outputs": [],
   "source": []
  }
 ],
 "metadata": {
  "anaconda-cloud": {},
  "kernelspec": {
   "display_name": "Python 3",
   "language": "python",
   "name": "python3"
  },
  "language_info": {
   "codemirror_mode": {
    "name": "ipython",
    "version": 3
   },
   "file_extension": ".py",
   "mimetype": "text/x-python",
   "name": "python",
   "nbconvert_exporter": "python",
   "pygments_lexer": "ipython3",
   "version": "3.6.4"
  }
 },
 "nbformat": 4,
 "nbformat_minor": 1
}
